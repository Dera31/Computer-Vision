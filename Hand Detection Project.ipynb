{
 "cells": [
  {
   "cell_type": "markdown",
   "id": "50e3d463",
   "metadata": {},
   "source": [
    "'''%%cmd\n",
    "pip install face_recognition'''\n",
    "#installing dlib for local storahge\n",
    "''''%%cmd\n",
    "pip install \"C:\\\\Users\\\\dera\\\\Desktop\\\\python\\\\dlib\\\\dlib-19.24.1-cp311-cp311-win_amd64.whl\"\n",
    "\n",
    "#!pip install cmake --no-binary :all:\n",
    "\n",
    "pip install -U cmake\n",
    "!cmake --version"
   ]
  },
  {
   "cell_type": "code",
   "execution_count": 1,
   "id": "6f415b22",
   "metadata": {},
   "outputs": [],
   "source": [
    "#%%cmd\n",
    "#pip install mediapipe\n"
   ]
  },
  {
   "cell_type": "code",
   "execution_count": 2,
   "id": "e59601c3",
   "metadata": {},
   "outputs": [],
   "source": [
    "# step 1: Import all library needs\n",
    "import cv2\n",
    "import mediapipe as mp\n",
    "#import face_recognition"
   ]
  },
  {
   "cell_type": "code",
   "execution_count": 3,
   "id": "804bf168",
   "metadata": {},
   "outputs": [],
   "source": [
    "# step 2: identify your webcam\n",
    "\n",
    "cap = cv2.VideoCapture(0) # Local webcam - 0, External Web cam - 1"
   ]
  },
  {
   "cell_type": "code",
   "execution_count": 4,
   "id": "2e6044f6",
   "metadata": {},
   "outputs": [],
   "source": [
    "# step 4: Leveraging the Mediapipe library used for hand detection\n",
    "mpHands = mp.solutions.hands\n",
    "hands = mpHands.Hands()\n",
    "mpDraw = mp.solutions.drawing_utils"
   ]
  },
  {
   "cell_type": "code",
   "execution_count": 5,
   "id": "f544e633",
   "metadata": {},
   "outputs": [
    {
     "name": "stderr",
     "output_type": "stream",
     "text": [
      "C:\\Users\\dera\\anaconda3\\Lib\\site-packages\\google\\protobuf\\symbol_database.py:55: UserWarning: SymbolDatabase.GetPrototype() is deprecated. Please use message_factory.GetMessageClass() instead. SymbolDatabase.GetPrototype() will be removed soon.\n",
      "  warnings.warn('SymbolDatabase.GetPrototype() is deprecated. Please '\n"
     ]
    }
   ],
   "source": [
    "# step 3: Switch on webcam\n",
    "\n",
    "import cv2\n",
    "import mediapipe as mp\n",
    "\n",
    "# Initialize Mediapipe hands\n",
    "mp_hands = mp.solutions.hands\n",
    "hands = mp_hands.Hands()\n",
    "mp_drawing = mp.solutions.drawing_utils\n",
    "\n",
    "# Open the default camera\n",
    "cap = cv2.VideoCapture(0)\n",
    "\n",
    "while True:\n",
    "    # Reads camera input into Python\n",
    "    _, img = cap.read()  \n",
    "\n",
    "    # Convert image from BGR to RGB\n",
    "    imgRGB = cv2.cvtColor(img, cv2.COLOR_BGR2RGB)\n",
    "    \n",
    "    # Apply Mediapipe hand detection\n",
    "    results = hands.process(imgRGB)\n",
    "    \n",
    "    # Print and draw hand landmarks if detected\n",
    "    if results.multi_hand_landmarks:\n",
    "        for handLms in results.multi_hand_landmarks:\n",
    "            for id, lm in enumerate(handLms.landmark):\n",
    "                #print(id, lm)\n",
    "                # Draw hand landmarks on the image\n",
    "                mp_drawing.draw_landmarks(img, handLms, mp_hands.HAND_CONNECTIONS)\n",
    "    \n",
    "    # Display the image\n",
    "    cv2.putText(img, \"Dera's Hand Detection Project\", (10, 70), cv2.FONT_HERSHEY_PLAIN, 3, (255,255,255), 2)\n",
    "    cv2.imshow(\"10Alytics Hand detection project\", img)\n",
    "    \n",
    "    # Exit on 'q' key press\n",
    "    if cv2.waitKey(1) & 0xFF == ord('q'):\n",
    "        break\n",
    "\n",
    "# Release the capture once all the processing is done\n",
    "cap.release()\n",
    "cv2.destroyAllWindows()\n",
    " "
   ]
  },
  {
   "cell_type": "code",
   "execution_count": null,
   "id": "4f02770b",
   "metadata": {},
   "outputs": [],
   "source": []
  },
  {
   "cell_type": "code",
   "execution_count": null,
   "id": "255fb424",
   "metadata": {},
   "outputs": [],
   "source": []
  },
  {
   "cell_type": "code",
   "execution_count": null,
   "id": "eb9b6d55",
   "metadata": {},
   "outputs": [],
   "source": []
  }
 ],
 "metadata": {
  "kernelspec": {
   "display_name": "Python 3 (ipykernel)",
   "language": "python",
   "name": "python3"
  },
  "language_info": {
   "codemirror_mode": {
    "name": "ipython",
    "version": 3
   },
   "file_extension": ".py",
   "mimetype": "text/x-python",
   "name": "python",
   "nbconvert_exporter": "python",
   "pygments_lexer": "ipython3",
   "version": "3.11.5"
  }
 },
 "nbformat": 4,
 "nbformat_minor": 5
}
